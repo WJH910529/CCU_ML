{
  "nbformat": 4,
  "nbformat_minor": 0,
  "metadata": {
    "colab": {
      "provenance": []
    },
    "kernelspec": {
      "name": "python3",
      "display_name": "Python 3"
    },
    "language_info": {
      "name": "python"
    }
  },
  "cells": [
    {
      "cell_type": "code",
      "execution_count": null,
      "metadata": {
        "colab": {
          "base_uri": "https://localhost:8080/"
        },
        "id": "4PguSViyMEDi",
        "outputId": "aba2d262-1a87-4022-a214-16d54e627a98"
      },
      "outputs": [
        {
          "output_type": "stream",
          "name": "stdout",
          "text": [
            "--2023-04-16 03:51:25--  https://www.csie.ntu.edu.tw/~cjlin/libsvm/oldfiles/libsvm-3.24.tar.gz\n",
            "Resolving www.csie.ntu.edu.tw (www.csie.ntu.edu.tw)... 140.112.30.26\n",
            "Connecting to www.csie.ntu.edu.tw (www.csie.ntu.edu.tw)|140.112.30.26|:443... connected.\n",
            "HTTP request sent, awaiting response... 200 OK\n",
            "Length: 876441 (856K) [application/x-gzip]\n",
            "Saving to: ‘libsvm-3.24.tar.gz’\n",
            "\n",
            "libsvm-3.24.tar.gz  100%[===================>] 855.90K  1.05MB/s    in 0.8s    \n",
            "\n",
            "2023-04-16 03:51:27 (1.05 MB/s) - ‘libsvm-3.24.tar.gz’ saved [876441/876441]\n",
            "\n"
          ]
        }
      ],
      "source": [
        "!wget https://www.csie.ntu.edu.tw/~cjlin/libsvm/oldfiles/libsvm-3.24.tar.gz\n",
        "!tar -xzf libsvm-3.24.tar.gz"
      ]
    },
    {
      "cell_type": "code",
      "source": [
        "%cd libsvm-3.24/\n",
        "!make\n",
        "!make python\n",
        "!make install\n",
        "!pip install scipy\n",
        "!pip install -U libsvm"
      ],
      "metadata": {
        "colab": {
          "base_uri": "https://localhost:8080/"
        },
        "id": "refXKwYQMQAb",
        "outputId": "662a7e16-c74f-4e41-b89e-24d99c43f24c"
      },
      "execution_count": null,
      "outputs": [
        {
          "output_type": "stream",
          "name": "stdout",
          "text": [
            "[Errno 2] No such file or directory: 'libsvm-3.24/'\n",
            "/content/libsvm-3.24\n",
            "make: Nothing to be done for 'all'.\n",
            "make: Nothing to be done for 'python'.\n",
            "make: *** No rule to make target 'install'.  Stop.\n",
            "Looking in indexes: https://pypi.org/simple, https://us-python.pkg.dev/colab-wheels/public/simple/\n",
            "Requirement already satisfied: scipy in /usr/local/lib/python3.9/dist-packages (1.10.1)\n",
            "Requirement already satisfied: numpy<1.27.0,>=1.19.5 in /usr/local/lib/python3.9/dist-packages (from scipy) (1.22.4)\n",
            "Looking in indexes: https://pypi.org/simple, https://us-python.pkg.dev/colab-wheels/public/simple/\n",
            "Requirement already satisfied: libsvm in /usr/local/lib/python3.9/dist-packages (3.23.0.4)\n"
          ]
        }
      ]
    },
    {
      "cell_type": "code",
      "source": [
        "import numpy as np\n",
        "from libsvm.svmutil import *\n",
        "\n",
        "# Generate data\n",
        "np.random.seed(0)\n",
        "x = np.linspace(-100, 100, 500)\n",
        "y = 2 * x + np.random.normal(0, 1, size=500)\n",
        "\n",
        "# Transform data for SVM\n",
        "data = np.array([x, y]).T\n",
        "labels = np.where(y > 2*x, 1, -1)\n",
        "\n",
        "# RBF SVM with 5-fold cross validation\n",
        "c_values = [0.01, 0.1, 1, 10, 100]\n",
        "gamma_values = [0.0001, 0.001, 0.01, 0.1, 1]\n",
        "best_accuracy = 0\n",
        "for c in c_values:\n",
        "  for gamma in gamma_values:\n",
        "    params = '-t 2 -c {} -g {}'.format(c, gamma)\n",
        "    accuracy = svm_train(labels, data, params + ' -v 5')\n",
        "    if accuracy > best_accuracy:\n",
        "      best_accuracy = accuracy\n",
        "      best_params = params\n",
        "\n",
        "# Train RBF SVM with the best parameters\n",
        "model = svm_train(labels, data, best_params)\n",
        "\n",
        "# Test RBF SVM with and without scaling\n",
        "test_data = np.random.uniform(-100, 100, size=(500, 2))\n",
        "test_labels = np.where(test_data[:, 1] > 2*test_data[:, 0], 1, -1)\n",
        "\n",
        "# Without scaling\n",
        "_, accuracy1, _ = svm_predict(test_labels, test_data, model)\n",
        "\n",
        "# With scaling\n",
        "means = np.mean(data, axis=0)\n",
        "stds = np.std(data, axis=0)\n",
        "scaled_test_data = (test_data - means) / stds\n",
        "_, accuracy2, _ = svm_predict(test_labels, scaled_test_data, model)\n",
        "\n",
        "print('Accuracy without scaling:', accuracy1[0])\n",
        "print('Accuracy with scaling:', accuracy2[0])\n"
      ],
      "metadata": {
        "colab": {
          "base_uri": "https://localhost:8080/"
        },
        "id": "5N9doZu149Dm",
        "outputId": "5286ba57-fa22-4b81-d542-bd57859141ff"
      },
      "execution_count": 33,
      "outputs": [
        {
          "output_type": "stream",
          "name": "stdout",
          "text": [
            "Cross Validation Accuracy = 51.6%\n",
            "Cross Validation Accuracy = 51.6%\n",
            "Cross Validation Accuracy = 51.6%\n",
            "Cross Validation Accuracy = 51.6%\n",
            "Cross Validation Accuracy = 51.6%\n",
            "Cross Validation Accuracy = 47.8%\n",
            "Cross Validation Accuracy = 54.6%\n",
            "Cross Validation Accuracy = 50.4%\n",
            "Cross Validation Accuracy = 51.6%\n",
            "Cross Validation Accuracy = 51.6%\n",
            "Cross Validation Accuracy = 52.2%\n",
            "Cross Validation Accuracy = 55.2%\n",
            "Cross Validation Accuracy = 53.6%\n",
            "Cross Validation Accuracy = 52.2%\n",
            "Cross Validation Accuracy = 53.4%\n",
            "Cross Validation Accuracy = 51.2%\n",
            "Cross Validation Accuracy = 53.2%\n",
            "Cross Validation Accuracy = 61.2%\n",
            "Cross Validation Accuracy = 68.8%\n",
            "Cross Validation Accuracy = 61%\n",
            "Cross Validation Accuracy = 65.2%\n",
            "Cross Validation Accuracy = 81.6%\n",
            "Cross Validation Accuracy = 87.6%\n",
            "Cross Validation Accuracy = 66.6%\n",
            "Cross Validation Accuracy = 58.8%\n",
            "Accuracy = 67.4% (337/500) (classification)\n",
            "Accuracy = 94.4% (472/500) (classification)\n",
            "Accuracy without scaling: 67.4\n",
            "Accuracy with scaling: 94.39999999999999\n"
          ]
        }
      ]
    }
  ]
}